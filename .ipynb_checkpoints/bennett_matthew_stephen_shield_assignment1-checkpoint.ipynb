{
 "cells": [
  {
   "cell_type": "code",
   "execution_count": 1,
   "metadata": {},
   "outputs": [],
   "source": [
    "import numpy as np\n",
    "\n",
    "def euclidean_distance(vec1, vec2):\n",
    "    return np.linalg.norm(vec1-vec2)"
   ]
  },
  {
   "cell_type": "code",
   "execution_count": 2,
   "metadata": {},
   "outputs": [],
   "source": [
    "def manhattan_distance(vec1, vec2):\n",
    "    vector_abs = np.abs(vec1-vec2)\n",
    "    return np.sum(vector_abs)"
   ]
  },
  {
   "cell_type": "code",
   "execution_count": 3,
   "metadata": {},
   "outputs": [],
   "source": [
    "def accuracy_generalization_error(predicted, actual):\n",
    "    accuracy = np.sum(predicted == actual)\n",
    "    return accuracy/len(actual), 1-(accuracy/len(actual))"
   ]
  },
  {
   "cell_type": "code",
   "execution_count": 4,
   "metadata": {},
   "outputs": [],
   "source": [
    "def precision(true_pos, false_pos):\n",
    "    return true_pos/(true_pos + false_pos)\n",
    "\n",
    "def recall(true_pos, false_neg):\n",
    "    return true_pos/(true_pos+false_neg)\n",
    "\n",
    "def f1_score(prec, rec):\n",
    "    return 2*((prec*rec)/(prec+rec))"
   ]
  },
  {
   "cell_type": "code",
   "execution_count": 31,
   "metadata": {},
   "outputs": [
    {
     "name": "stdout",
     "output_type": "stream",
     "text": [
      "[0 1 0]\n"
     ]
    },
    {
     "data": {
      "text/plain": [
       "3"
      ]
     },
     "execution_count": 31,
     "metadata": {},
     "output_type": "execute_result"
    }
   ],
   "source": [
    "def confusion_matrix(predicted, actual):\n",
    "    tn = 0\n",
    "    tp = 0\n",
    "    fn = 0\n",
    "    fp = 0\n",
    "    for i in range(0, len(predicted) - 1):\n",
    "        if (predicted[i] == actual[i]) and (actual == 0):\n",
    "            tn += 1\n",
    "        elif (predicted[i] == actual[i]) and actual == 1:\n",
    "            tp += 1\n",
    "        elif predicted[i] != actual[i] and actual == 0:\n",
    "            fp += 1\n",
    "        elif predicted[i] != actual[i] and actual == 1:\n",
    "            fn += 1\n",
    "            \n",
    "    return np.array([tn, fp],[fn, tp])\n",
    "\n",
    "\n",
    "vec1 = np.array([0,1,0])\n",
    "print(vec1)\n",
    "vec2 = np.array([0,0,1])\n",
    "confusion_matrix(vec1, vec2)"
   ]
  },
  {
   "cell_type": "code",
   "execution_count": null,
   "metadata": {},
   "outputs": [],
   "source": []
  },
  {
   "cell_type": "code",
   "execution_count": null,
   "metadata": {},
   "outputs": [],
   "source": []
  }
 ],
 "metadata": {
  "kernelspec": {
   "display_name": "Python 3",
   "language": "python",
   "name": "python3"
  },
  "language_info": {
   "codemirror_mode": {
    "name": "ipython",
    "version": 3
   },
   "file_extension": ".py",
   "mimetype": "text/x-python",
   "name": "python",
   "nbconvert_exporter": "python",
   "pygments_lexer": "ipython3",
   "version": "3.7.2"
  }
 },
 "nbformat": 4,
 "nbformat_minor": 1
}

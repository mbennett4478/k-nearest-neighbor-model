{
 "cells": [
  {
   "cell_type": "code",
   "execution_count": 1,
   "metadata": {},
   "outputs": [],
   "source": [
    "import math\n",
    "\n",
    "def euclidean_distance(vec1, vec2):\n",
    "    sum = 0\n",
    "    for i in range(0, len(vec1)):\n",
    "        sum += math.pow(vec1[i]-vec2[i],2)\n",
    "    return math.sqrt(sum)"
   ]
  },
  {
   "cell_type": "code",
   "execution_count": 2,
   "metadata": {},
   "outputs": [],
   "source": [
    "def manhattan_distance(vec1, vec2):\n",
    "    sum = 0\n",
    "    for i in range(0, len(vec1)):\n",
    "        sum += math.fabs(vec1[i] - vec2[i])\n",
    "    return sum"
   ]
  },
  {
   "cell_type": "code",
   "execution_count": 3,
   "metadata": {},
   "outputs": [],
   "source": [
    "def accuracy_generalization_error(vec1, vec2):\n",
    "    dproduct = 0\n",
    "    magnitude_1 = 0\n",
    "    magnitude_2 = 0\n",
    "    for i in range(0, len(vec1)):\n",
    "        dproduct += vec1[i] * vec2[i]\n",
    "        magnitude_1 += math.pow(vec1[i],2)\n",
    "        magnitude_2 += math.pow(vec2[i],2)\n",
    "    \n",
    "    accuracy = dproduct/(math.sqrt(magnitude_1)*math.sqrt(magnitude_2))\n",
    "    return accuracy, 1-accuracy"
   ]
  },
  {
   "cell_type": "code",
   "execution_count": 5,
   "metadata": {},
   "outputs": [],
   "source": [
    "def precision(true_pos, false_pos):\n",
    "    return true_pos/(true_pos + false_pos)\n",
    "\n",
    "def recall(true_pos, false_neg):\n",
    "    return true_pos/(true_pos+false_neg)\n",
    "\n",
    "def f1_score(prec, rec):\n",
    "    return 2*((prec*rec)/(prec+rec))"
   ]
  },
  {
   "cell_type": "code",
   "execution_count": 154,
   "metadata": {},
   "outputs": [],
   "source": [
    "import numpy as np\n",
    "def roc_curve(true_classes, class_probabilities):\n",
    "    \"\"\"Given true classes and class probabilities calculates fpr and tpr values and returns them as lists that can be used to construct a ROC curve\"\"\"\n",
    "    true_classes, class_probabilities = np.asarray(true_classes) , np.asarray(class_probabilities)\n",
    "    tpr_values=[]\n",
    "    fpr_values=[]\n",
    "    for threshold in range(100):\n",
    "        predicted_classes=(class_probabilities > float(threshold/100.)).astype(int)\n",
    "        fpr=np.sum(predicted_classes[np.where(predicted_classes == 1 )]  != true_classes[np.where(predicted_classes == 1 )])/true_classes[np.where(true_classes == 0 )].shape[0]\n",
    "        tpr=np.sum(predicted_classes[np.where(predicted_classes == 1 )]  == true_classes[np.where(predicted_classes == 1 )])/true_classes[np.where(true_classes == 1 )].shape[0]\n",
    "        fpr_values.append(fpr)\n",
    "        tpr_values.append(tpr)\n",
    "    return fpr_values,tpr_values"
   ]
  },
  {
   "cell_type": "code",
   "execution_count": null,
   "metadata": {},
   "outputs": [],
   "source": [
    "def auc(true_classes, class_probabilities):\n",
    "    '''Calculates area under the roc curve by calling the roc curve function to calculate tpr and fpr'''\n",
    "    x,y=roc_curve(true_classes, class_probabilities)\n",
    "    auc=abs(np.trapz(y,x, axis=-1))\n",
    "    return auc"
   ]
  }
 ],
 "metadata": {
  "kernelspec": {
   "display_name": "Python 3",
   "language": "python",
   "name": "python3"
  },
  "language_info": {
   "codemirror_mode": {
    "name": "ipython",
    "version": 3
   },
   "file_extension": ".py",
   "mimetype": "text/x-python",
   "name": "python",
   "nbconvert_exporter": "python",
   "pygments_lexer": "ipython3",
   "version": "3.6.3"
  }
 },
 "nbformat": 4,
 "nbformat_minor": 1
}

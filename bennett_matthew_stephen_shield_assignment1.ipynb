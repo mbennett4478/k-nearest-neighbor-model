{
 "cells": [
  {
   "cell_type": "code",
   "execution_count": 1,
   "metadata": {},
   "outputs": [],
   "source": [
    "import math\n",
    "\n",
    "def euclidean_distance(vec1, vec2):\n",
    "    sum = 0\n",
    "    for i in range(0, len(vec1)):\n",
    "        sum += math.pow(vec1[i]-vec2[i],2)\n",
    "    return math.sqrt(sum)"
   ]
  },
  {
   "cell_type": "code",
   "execution_count": 2,
   "metadata": {},
   "outputs": [],
   "source": [
    "def manhattan_distance(vec1, vec2):\n",
    "    sum = 0\n",
    "    for i in range(0, len(vec1)):\n",
    "        sum += math.fabs(vec1[i] - vec2[i])\n",
    "    return sum"
   ]
  },
  {
   "cell_type": "code",
   "execution_count": 3,
   "metadata": {},
   "outputs": [],
   "source": [
    "def accuracy_generalization_error(vec1, vec2):\n",
    "    dproduct = 0\n",
    "    magnitude_1 = 0\n",
    "    magnitude_2 = 0\n",
    "    for i in range(0, len(vec1)):\n",
    "        dproduct += vec1[i] * vec2[i]\n",
    "        magnitude_1 += math.pow(vec1[i],2)\n",
    "        magnitude_2 += math.pow(vec2[i],2)\n",
    "    \n",
    "    accuracy = dproduct/(math.sqrt(magnitude_1)*math.sqrt(magnitude_2))\n",
    "#     return math.acos(dproduct/(math.sqrt(magnitude_1)*math.sqrt(magnitude_2)))\n",
    "    return accuracy, 1-accuracy"
   ]
  },
  {
   "cell_type": "code",
   "execution_count": 4,
   "metadata": {},
   "outputs": [
    {
     "data": {
      "text/plain": [
       "(0.28690229202651557, 0.7130977079734844)"
      ]
     },
     "execution_count": 4,
     "metadata": {},
     "output_type": "execute_result"
    }
   ],
   "source": [
    "vec1 = [1,2,3]\n",
    "vec2 = [10,2,-1]\n",
    "accuracy_generalization_error(vec1, vec2)"
   ]
  },
  {
   "cell_type": "code",
   "execution_count": null,
   "metadata": {},
   "outputs": [],
   "source": []
  }
 ],
 "metadata": {
  "kernelspec": {
   "display_name": "Python 3",
   "language": "python",
   "name": "python3"
  },
  "language_info": {
   "codemirror_mode": {
    "name": "ipython",
    "version": 3
   },
   "file_extension": ".py",
   "mimetype": "text/x-python",
   "name": "python",
   "nbconvert_exporter": "python",
   "pygments_lexer": "ipython3",
   "version": "3.7.2"
  }
 },
 "nbformat": 4,
 "nbformat_minor": 1
}
